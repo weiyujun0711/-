{
 "cells": [
  {
   "cell_type": "code",
   "execution_count": 19,
   "id": "1d2abae7",
   "metadata": {
    "scrolled": true
   },
   "outputs": [
    {
     "name": "stdout",
     "output_type": "stream",
     "text": [
      "catau1: 0.0969189503548316\n",
      "Time corresponding to ca_tau1: 0.6060606060606061\n",
      "Concentration at time corresponding to ca_tau1: [0.09673424]\n",
      "[0.09705868]\n",
      "[0.09744928]\n"
     ]
    }
   ],
   "source": [
    "import numpy as np\n",
    "import matplotlib.pyplot as plt\n",
    "from scipy.integrate import odeint\n",
    "\n",
    "# Parameters\n",
    "V = 10\n",
    "CAi = 1\n",
    "y0 = 0.1\n",
    "f = 0.9\n",
    "k = 9\n",
    "\n",
    "# Define the main function\n",
    "def balance(y, t, f, CAi):\n",
    "    dydt = (-V * k * y**2 - f * y + f * CAi) / V\n",
    "    return dydt\n",
    "\n",
    "t = np.linspace(0, 10, 100)\n",
    "\n",
    "# Call odeint with additional arguments using 'args'\n",
    "ca = odeint(balance, y0, t, args=(f, CAi))\n",
    "\n",
    "eqc = ca[-1]\n",
    "ca1 = 0.1\n",
    "catau1 = ca1 + 0.632 * (eqc[0] - 0.1)\n",
    "index_catau1 = np.argmax(ca <= catau1)\n",
    "time = t[index_catau1]\n",
    "print(\"catau1:\",catau1)\n",
    "print(\"Time corresponding to ca_tau1:\", time)\n",
    "print(\"Concentration at time corresponding to ca_tau1:\", ca[index_catau1])\n",
    "try2 = index_catau1-1\n",
    "print(ca[try2])\n",
    "try3 = index_catau1-2\n",
    "print(ca[try3])"
   ]
  },
  {
   "cell_type": "code",
   "execution_count": null,
   "id": "eb748671",
   "metadata": {},
   "outputs": [],
   "source": []
  }
 ],
 "metadata": {
  "kernelspec": {
   "display_name": "Python 3 (ipykernel)",
   "language": "python",
   "name": "python3"
  },
  "language_info": {
   "codemirror_mode": {
    "name": "ipython",
    "version": 3
   },
   "file_extension": ".py",
   "mimetype": "text/x-python",
   "name": "python",
   "nbconvert_exporter": "python",
   "pygments_lexer": "ipython3",
   "version": "3.9.13"
  }
 },
 "nbformat": 4,
 "nbformat_minor": 5
}
